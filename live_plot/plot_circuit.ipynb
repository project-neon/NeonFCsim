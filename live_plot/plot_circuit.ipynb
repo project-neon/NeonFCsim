{
 "cells": [
  {
   "cell_type": "code",
   "execution_count": 11,
   "id": "759750d5",
   "metadata": {},
   "outputs": [
    {
     "ename": "ModuleNotFoundError",
     "evalue": "No module named 'bokeh'",
     "output_type": "error",
     "traceback": [
      "\u001b[0;31m---------------------------------------------------------------------------\u001b[0m",
      "\u001b[0;31mModuleNotFoundError\u001b[0m                       Traceback (most recent call last)",
      "Input \u001b[0;32mIn [11]\u001b[0m, in \u001b[0;36m<cell line: 1>\u001b[0;34m()\u001b[0m\n\u001b[0;32m----> 1\u001b[0m \u001b[38;5;28;01mfrom\u001b[39;00m \u001b[38;5;21;01mbokeh\u001b[39;00m\u001b[38;5;21;01m.\u001b[39;00m\u001b[38;5;21;01mplotting\u001b[39;00m \u001b[38;5;28;01mimport\u001b[39;00m curdoc, figure\n\u001b[1;32m      2\u001b[0m \u001b[38;5;28;01mimport\u001b[39;00m \u001b[38;5;21;01mrandom\u001b[39;00m\n\u001b[1;32m      3\u001b[0m \u001b[38;5;28;01mimport\u001b[39;00m \u001b[38;5;21;01mtime\u001b[39;00m\n",
      "\u001b[0;31mModuleNotFoundError\u001b[0m: No module named 'bokeh'"
     ]
    }
   ],
   "source": [
    "from bokeh.plotting import curdoc, figure\n",
    "import json\n",
    "import socket\n",
    "\n",
    "UDP_IP_ADDRESS = 'localhost'\n",
    "UDP_PORT_NO = 43215\n",
    "\n",
    "serverSock = socket.socket(socket.AF_INET, socket.SOCK_DGRAM)\n",
    "serverSock.bind((UDP_IP_ADDRESS, UDP_PORT_NO))\n",
    "\n",
    "def update():\n",
    "    raw_data, addr = serverSock.recvfrom(4096)\n",
    "    data = json.loads(raw_data)\n",
    "    x = data['robot']['x']\n",
    "    y = data['robot']['y']\n",
    "    r.data_source.stream({'x': [x], 'y': [y]})\n",
    "\n",
    "p = figure()\n",
    "r = p.circle([], [])\n",
    "curdoc().add_root(p)\n",
    "curdoc().add_periodic_callback(update, 100)"
   ]
  },
  {
   "cell_type": "code",
   "execution_count": null,
   "id": "2803a53e",
   "metadata": {},
   "outputs": [],
   "source": []
  }
 ],
 "metadata": {
  "kernelspec": {
   "display_name": "Python 3 (ipykernel)",
   "language": "python",
   "name": "python3"
  },
  "language_info": {
   "codemirror_mode": {
    "name": "ipython",
    "version": 3
   },
   "file_extension": ".py",
   "mimetype": "text/x-python",
   "name": "python",
   "nbconvert_exporter": "python",
   "pygments_lexer": "ipython3",
   "version": "3.8.10"
  }
 },
 "nbformat": 4,
 "nbformat_minor": 5
}
